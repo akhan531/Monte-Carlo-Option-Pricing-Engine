{
 "cells": [
  {
   "cell_type": "markdown",
   "metadata": {},
   "source": [
    "# Section 1: Model Analysis & Interpretation #\n",
    "\n",
    "## 1.1 Introduction & Motivation ##\n",
    "Since American options can be exercised anytime before expiration, it is difficult to determine the value of these options based off a simple formula. In this project, I will be exploring how different machine learning models can be used to price American options."
   ]
  },
  {
   "cell_type": "code",
   "execution_count": null,
   "metadata": {
    "vscode": {
     "languageId": "plaintext"
    }
   },
   "outputs": [],
   "source": []
  }
 ],
 "metadata": {
  "language_info": {
   "name": "python"
  }
 },
 "nbformat": 4,
 "nbformat_minor": 2
}
